{
  "nbformat": 4,
  "nbformat_minor": 0,
  "metadata": {
    "colab": {
      "provenance": [],
      "authorship_tag": "ABX9TyPuz/3i76HiE911xjHkL+Ox",
      "include_colab_link": true
    },
    "kernelspec": {
      "name": "python3",
      "display_name": "Python 3"
    },
    "language_info": {
      "name": "python"
    }
  },
  "cells": [
    {
      "cell_type": "markdown",
      "metadata": {
        "id": "view-in-github",
        "colab_type": "text"
      },
      "source": [
        "<a href=\"https://colab.research.google.com/github/SpecularAura/DAV-SEM5/blob/master/Experiment11.ipynb\" target=\"_parent\"><img src=\"https://colab.research.google.com/assets/colab-badge.svg\" alt=\"Open In Colab\"/></a>"
      ]
    },
    {
      "cell_type": "markdown",
      "source": [
        "# Experiment 11"
      ],
      "metadata": {
        "id": "hZCF5ywFWkDY"
      }
    },
    {
      "cell_type": "markdown",
      "source": [
        "Name: Aum Kulkarni    \n",
        "Class: D11AD    \n",
        "Roll No: 36    "
      ],
      "metadata": {
        "id": "TdOadWBAWsJw"
      }
    },
    {
      "cell_type": "markdown",
      "source": [
        "**Aim**: Getting introduced to visualization libraries in Python and R.         \n",
        "**Lab Objectives**: To effectively use libraries for data analytics.    \n",
        "**Lab Outcomes**:\n",
        "- Implement visualization techniques to given data sets using R\n",
        "- Implement visualization techniques to given data sets using Python\n",
        "\n",
        "**Tasks Performed**:\n",
        "1. Identify 5 Python and R Libraries for Data Visualization.\n",
        "2. Prepare a brief summary about their features and applications.\n",
        "3. Perform simple experiments on 2 Libraries each for Python & R\n"
      ],
      "metadata": {
        "id": "INd5fiaLW_YQ"
      }
    },
    {
      "cell_type": "markdown",
      "source": [
        "### **Theory**:"
      ],
      "metadata": {
        "id": "LuH58ro8XbHp"
      }
    },
    {
      "cell_type": "markdown",
      "source": [
        "#### Top 5 Data Analytics Libraries in Python\n",
        "1. **Matplotlib:** Matplotlib is an open-source drawing library that supports various drawing types. You can generate plots, histograms, bar charts, and other types of charts with just a few lines of code.\n",
        " It's often used in web application s\n",
        "  Features:\n",
        "  * Flexible Plotting\n",
        "  * Customization\n",
        "  * Support for Various Formats\n",
        "  * Extensive Documentation\n",
        "  \n",
        "  Applications:\n",
        "  * Data Visualization\n",
        "  * Scientific Research: Scientists and researchers use Matplotlib to create plots for visualizing experimental results, simulations, and scientific data.\n",
        "  * Machine Learning: In the field of machine learning, Matplotlib is used to visualize model performance, explore data distributions, and analyze results.\n",
        "\n",
        "2. **Seaborn:** Seaborn is a Python data visualization library based on matplotlib. It provides a high-level interface for drawing attractive and informative statistical graphics.\n",
        "\n",
        "  Features:\n",
        "  * Statistical Data Visualization: Seaborn is built on top of Matplotlib and provides a high-level interface for creating informative and attractive statistical graphics.\n",
        "  * Ease of Use\n",
        "  * Integration with Pandas: Seaborn seamlessly integrates with Pandas DataFrames, allowing for easy manipulation and visualization of tabular data.\n",
        "  * Time Series Visualization: Seaborn supports time series visualization, offering tools to plot time-dependent data with meaningful insights.\n",
        "\n",
        "  Applications:\n",
        "  * Exploratory Data Analysis (EDA)\n",
        "  * Statistical Analysis\n",
        "  * Dashboard Creation\n",
        "\n",
        "\n",
        "3. **Plotly:** Plotly library in Python is an open-source library that can be used for data visualization and understanding data simply and easily. Plotly supports various types of plots like line charts, scatter plots, histograms, box plots, etc.\n",
        "\n",
        "  Features:\n",
        "  * Interactive Visualizations\n",
        "  * Web-Based Framework\n",
        "  * Dashboards and Applications: Plotly's Dash framework enables the creation of interactive web applications and dashboards directly from Python.\n",
        "\n",
        "  Applications:\n",
        "  * Data Exploration and Analysis: Plotly is widely used for exploring and analyzing data interactively.\n",
        "  * Dashboards and Reporting: Plotly is employed to create interactive dashboards and reports.\n",
        "  * Scientific and Research Visualization: Researchers use Plotly to visualize scientific data, experimental results, and research findings, especially in fields such as physics, biology, and engineering.\n",
        "\n",
        "4. **Geoplotlib:**\n",
        "Geoplotlib is a powerful Python library for visualizing geographical data. It provides a simple and intuitive way to create maps and plot geographical data on them. Geoplotlib is built on top of matplotlib and numpy. It is designed to make it easy to create maps and plot data on them.\n",
        "\n",
        "  Features:\n",
        "  * Geospatial Visualization\n",
        "  * Customizable Maps\n",
        "  * Marker Plots: The library supports marker plots, enabling the visualization of point-based geospatial data with markers, labels, and custom symbols.\n",
        "  * Heatmaps: geoplotlib allows the creation of heatmaps, which are useful for visualizing spatial density and intensity of data.\n",
        "\n",
        "  Applications:\n",
        "  * Geographical Data Analysis: geoplotlib is primarily used for analyzing and visualizing geographical data, making it a valuable tool for geospatial data scientists and researchers.\n",
        "  * Location-Based Services: The library finds applications in location-based services and applications, providing the ability to visualize and analyze location-based data.\n",
        "  * Environmental Studies: Researchers in environmental science use geoplotlib to visualize spatial data related to climate, pollution, and natural resources.\n",
        "  \n",
        "5. **Folium:** Folium is built on the data wrangling strengths of the Python ecosystem and the mapping strengths of the Leaflet.js (JavaScript) library. Simply, manipulate your data in Python, then visualize it on a leaflet map via Folium. Folium makes it easy to visualize data that's been manipulated in Python, on an interactive Leaflet map. This library has a number of built-in tilesets from OpenStreetMap, Mapbox etc.\n",
        "\n",
        "  Features:\n",
        "  * Interactive Maps: Folium is a Python library that simplifies the creation of interactive maps. It is built on top of Leaflet.js and provides a user-friendly interface for mapping.\n",
        "  * Vector Layers: Folium supports vector layers, enabling the overlay of various geometrical shapes, GeoJSON data, and custom shapes on the map.\n",
        "  * Support for GeoJSON and TopoJSON: Folium supports GeoJSON and TopoJSON formats, making it versatile for reading and displaying various geospatial data formats.\n",
        "\n",
        "  Applications:\n",
        "  * Location-Based Services: Businesses and applications utilize Folium for creating interactive maps to display locations, routes, and other location-based services.\n",
        "  * Environmental Monitoring: Folium finds applications in environmental studies for mapping and visualizing environmental data, such as air quality, pollution levels, and ecological information.\n",
        "  * Tourism and Travel Planning: Folium is employed in the tourism industry for creating interactive maps that showcase tourist destinations, routes, and points of interest.\n",
        "\n",
        "\n",
        "#### Top 5 Data Analytics Libraries in R\n",
        "1. ggplot2\n",
        "  - ggplot2 implements the grammar of graphics, a coherent system for describing and building graphs.\n",
        "  - This approach gives us a coherent way to produce visualizations by expressing relationships between the attributes of data and their graphical representation\n",
        "  - Thus, one can create plots faster by learning one system and applying it in many places.\n",
        "\n",
        "2. Lattice\n",
        "  - The lattice package was written by Deepayan Sarkar. The package provides better defaults. It also provides the ability to display multivariate relationships and it improves on the base-R graphics\n",
        "  - The Lattice user interface primarily consists of several 'high-level' generic functions, each designed to create a particular type of display by default.\n",
        "  - Although the functions produce different output, they share many common features, reflected in several common arguments that affect the resulting displays in similar ways.\n",
        "  - Lattice employs an extensive system of user-controllable settings to determine the look and feel of the displays it produces.\n",
        "\n",
        "  3. RGL\n",
        "    - RGL is a 3D real-time rendering system for R.\n",
        "    - Multiple windows are managed at a time. Windows may be divided into “subscenes”, where one has the current focus that receives instructions from the R command-line\n",
        "    - The rgl package is used to produce interactive 3-D plots.\n",
        "    - It contains high-level graphics commands modelled loosely after classic R graphics, but working in three dimensions.\n",
        "    - It also contains low level structure inspired by (but incompatible with) the grid package.\n",
        "\n",
        "  4. RColorBrewer\n",
        "    - RColorBrewer is an R package that contains a ready-to-use color palettes for creating beautiful graphics\n",
        "\n",
        "    There are 3 types of palettes, sequential, diverging, and qualitative:\n",
        "      1. Sequential palettes are suited to ordered data that progress from low to high. Lightness steps dominate the look of these schemes, with light colors for low data values to dark colors for high  data values.\n",
        "      2. Diverging palettes put equal emphasis on mid-range critical values and extremes at both ends of the data range. The critical class or break in the middle of the legend is emphasized with light colors and low and high extremes are emphasized with dark colors that have contrasting hues.\n",
        "      3. Qualitative palettes do not imply magnitude differences between legend classes, and hues are used to create the primary visual differences between classes. Qualitative schemes are best suitedto representing nominal or categorical data.\n",
        "\n",
        "  5. Leaflet\n",
        "    - Leaflet is the leading library for mobile-friendly interactive maps\n",
        "      \n",
        "      Some Features:\n",
        "    - Interactive panning/zooming\n",
        "    - Compose maps using arbitrary combinations of: Map tiles, Markers, Polygons, Lines, Popups, GeoJSON\n",
        "\n",
        "    Applications:\n",
        "    - Create maps right from the R console or RStudio\n",
        "    - Embed maps in knitr/R Markdown documents and Shiny apps\n"
      ],
      "metadata": {
        "id": "zymcxh94pobl"
      }
    },
    {
      "cell_type": "markdown",
      "source": [
        "### Python Libraries"
      ],
      "metadata": {
        "id": "5vEqIOs3mBTa"
      }
    },
    {
      "cell_type": "code",
      "execution_count": null,
      "metadata": {
        "id": "x0rUEpgvVuxK",
        "colab": {
          "base_uri": "https://localhost:8080/"
        },
        "outputId": "634d40fc-62f2-4f7b-e705-5fde05f97280"
      },
      "outputs": [
        {
          "output_type": "stream",
          "name": "stdout",
          "text": [
            "Requirement already satisfied: numpy in /usr/local/lib/python3.10/dist-packages (1.23.5)\n",
            "Requirement already satisfied: pandas in /usr/local/lib/python3.10/dist-packages (1.5.3)\n",
            "Requirement already satisfied: python-dateutil>=2.8.1 in /usr/local/lib/python3.10/dist-packages (from pandas) (2.8.2)\n",
            "Requirement already satisfied: pytz>=2020.1 in /usr/local/lib/python3.10/dist-packages (from pandas) (2023.3.post1)\n",
            "Requirement already satisfied: six>=1.5 in /usr/local/lib/python3.10/dist-packages (from python-dateutil>=2.8.1->pandas) (1.16.0)\n"
          ]
        }
      ],
      "source": [
        "!pip install numpy pandas"
      ]
    },
    {
      "cell_type": "code",
      "source": [
        "import numpy as np\n",
        "array1D = np.array([2,3,4,5])\n",
        "print(f\"1D Array : {array1D}, Shape : {array1D.shape}\")\n",
        "\n",
        "array2D = np.array([[1,2,3],[4,5,6]])\n",
        "print(f\"2D Array : \\n{array2D}, Shape : {array2D.shape}\")"
      ],
      "metadata": {
        "colab": {
          "base_uri": "https://localhost:8080/"
        },
        "id": "60ri3yR6m8UK",
        "outputId": "9868193d-690f-47b6-bcaf-322f83f25ab4"
      },
      "execution_count": null,
      "outputs": [
        {
          "output_type": "stream",
          "name": "stdout",
          "text": [
            "1D Array : [2 3 4 5], Shape : (4,)\n",
            "2D Array : \n",
            "[[1 2 3]\n",
            " [4 5 6]], Shape : (2, 3)\n"
          ]
        }
      ]
    },
    {
      "cell_type": "code",
      "source": [
        "import pandas as pd\n",
        "data = {\n",
        "  \"calories\": [420, None, 390],\n",
        "  \"duration\": [50, 40, 45]\n",
        "}\n",
        "df = pd.DataFrame(data)\n",
        "missing = np.where(df[\"calories\"].isnull() == True)\n",
        "print(df)\n",
        "print(missing)"
      ],
      "metadata": {
        "id": "UzqPLWEVmWqS"
      },
      "execution_count": null,
      "outputs": []
    },
    {
      "cell_type": "markdown",
      "source": [
        "### R Libraries"
      ],
      "metadata": {
        "id": "NTdfy1JTmNFp"
      }
    },
    {
      "cell_type": "code",
      "source": [
        "library(dplyr)\n",
        "library(ggplot2)\n",
        "library(dplyr)\n",
        "df = data.frame(\n",
        "    department = c(\"AIDS\",\"CS\",\"IT\",\"EXTC\"),\n",
        "    year = c(2014,2016,2006,2001)\n",
        ")\n",
        "df.department = arrange(df,year)\n",
        "df.department"
      ],
      "metadata": {
        "colab": {
          "base_uri": "https://localhost:8080/",
          "height": 223
        },
        "id": "GOq9KlpVnZp5",
        "outputId": "a0e844ca-1800-4a48-c9b1-3b7a748a9674"
      },
      "execution_count": null,
      "outputs": [
        {
          "output_type": "display_data",
          "data": {
            "text/html": [
              "<table class=\"dataframe\">\n",
              "<caption>A data.frame: 4 × 2</caption>\n",
              "<thead>\n",
              "\t<tr><th scope=col>department</th><th scope=col>year</th></tr>\n",
              "\t<tr><th scope=col>&lt;chr&gt;</th><th scope=col>&lt;dbl&gt;</th></tr>\n",
              "</thead>\n",
              "<tbody>\n",
              "\t<tr><td>EXTC</td><td>2001</td></tr>\n",
              "\t<tr><td>IT  </td><td>2006</td></tr>\n",
              "\t<tr><td>AIDS</td><td>2014</td></tr>\n",
              "\t<tr><td>CS  </td><td>2016</td></tr>\n",
              "</tbody>\n",
              "</table>\n"
            ],
            "text/markdown": "\nA data.frame: 4 × 2\n\n| department &lt;chr&gt; | year &lt;dbl&gt; |\n|---|---|\n| EXTC | 2001 |\n| IT   | 2006 |\n| AIDS | 2014 |\n| CS   | 2016 |\n\n",
            "text/latex": "A data.frame: 4 × 2\n\\begin{tabular}{ll}\n department & year\\\\\n <chr> & <dbl>\\\\\n\\hline\n\t EXTC & 2001\\\\\n\t IT   & 2006\\\\\n\t AIDS & 2014\\\\\n\t CS   & 2016\\\\\n\\end{tabular}\n",
            "text/plain": [
              "  department year\n",
              "1 EXTC       2001\n",
              "2 IT         2006\n",
              "3 AIDS       2014\n",
              "4 CS         2016"
            ]
          },
          "metadata": {}
        }
      ]
    },
    {
      "cell_type": "code",
      "source": [
        "df1 = data.frame(\n",
        "    calories = c(420,360,390, 400, 450, 460),\n",
        "    duration = c(50, 40, 45, 47, 42, 52)\n",
        ")\n",
        "ggplot(data = df1, mapping = aes(x= calories, y = duration)) +  geom_point()"
      ],
      "metadata": {
        "colab": {
          "base_uri": "https://localhost:8080/",
          "height": 437
        },
        "id": "X5_j9NXno1sS",
        "outputId": "00facf4f-a46b-4e11-f886-67c758d8b856"
      },
      "execution_count": null,
      "outputs": [
        {
          "output_type": "display_data",
          "data": {
            "text/plain": [
              "plot without title"
            ],
            "image/png": "[encoded data removed]"
          },
          "metadata": {
            "image/png": {
              "width": 420,
              "height": 420
            }
          }
        }
      ]
    },
    {
      "cell_type": "markdown",
      "source": [
        "### Conclusion\n"
      ],
      "metadata": {
        "id": "U9l9rM-bproD"
      }
    },
    {
      "cell_type": "markdown",
      "source": [
        "- Identified the Data Visualization Libraries in Python and R\n",
        "- Performed simple experiments with these libraries in Python and R"
      ],
      "metadata": {
        "id": "FJNRuLSNp1bB"
      }
    }
  ]
}