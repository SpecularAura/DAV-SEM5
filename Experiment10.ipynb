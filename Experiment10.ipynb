{
  "cells": [
    {
      "cell_type": "markdown",
      "metadata": {
        "id": "view-in-github",
        "colab_type": "text"
      },
      "source": [
        "<a href=\"https://colab.research.google.com/github/SpecularAura/DAV-SEM5/blob/master/Experiment10.ipynb\" target=\"_parent\"><img src=\"https://colab.research.google.com/assets/colab-badge.svg\" alt=\"Open In Colab\"/></a>"
      ]
    },
    {
      "cell_type": "markdown",
      "metadata": {
        "id": "YvaswCzox7dO"
      },
      "source": [
        "Exp10: https://colab.research.google.com/drive/1QFEcuKkOHl8T9WDauqRRVVSzQNrvW3gW\n"
      ]
    },
    {
      "cell_type": "markdown",
      "metadata": {
        "id": "ZI1TMsqWvdi5"
      },
      "source": [
        "# **Aim:**\n",
        "Event Handling with D3.js"
      ]
    },
    {
      "cell_type": "markdown",
      "metadata": {
        "id": "BEvuJzAfu_8E"
      },
      "source": [
        "1. Hover on rectangle to change colour"
      ]
    },
    {
      "cell_type": "code",
      "execution_count": 1,
      "metadata": {
        "colab": {
          "base_uri": "https://localhost:8080/",
          "height": 232
        },
        "id": "VkN5ONYSr71_",
        "outputId": "a040b19f-9147-442e-e6b4-eedcbfb5f67c",
        "tags": []
      },
      "outputs": [
        {
          "output_type": "display_data",
          "data": {
            "text/plain": [
              "<IPython.core.display.HTML object>"
            ],
            "text/html": [
              "<!doctype html>\n",
              "<html>\n",
              "<head>\n",
              "    <style>\n",
              "        div {\n",
              "            height: 100px;\n",
              "            width: 100px;\n",
              "            background-color: steelblue;\n",
              "            margin:5px;\n",
              "        }\n",
              "    </style>\n",
              "    <script src=\"https://d3js.org/d3.v7.min.js\"></script>\n",
              "</head>\n",
              "<body>\n",
              "<script>\n",
              "    d3.selectAll(\"div\")\n",
              "      .on(\"mouseover\", function(){\n",
              "          d3.select(this)\n",
              "            .style(\"background-color\", \"orange\");\n",
              "\n",
              "          // Get current event info\n",
              "          console.log(d3.event);\n",
              "          \n",
              "          // Get x & y co-ordinates\n",
              "          console.log(d3.mouse(this));\n",
              "      })\n",
              "      .on(\"mouseout\", function(){\n",
              "          d3.select(this)\n",
              "            .style(\"background-color\", \"steelblue\")\n",
              "      });\n",
              "</script>\n",
              "</body>\n",
              "</html>\n"
            ]
          },
          "metadata": {}
        }
      ],
      "source": [
        "%%html\n",
        "<!doctype html>\n",
        "<html>\n",
        "<head>\n",
        "    <style>\n",
        "        div {\n",
        "            height: 100px;\n",
        "            width: 100px;\n",
        "            background-color: steelblue;\n",
        "            margin:5px;\n",
        "        }\n",
        "    </style>\n",
        "    <script src=\"https://d3js.org/d3.v7.min.js\"></script>\n",
        "</head>\n",
        "<body>\n",
        "<script>\n",
        "    d3.selectAll(\"div\")\n",
        "      .on(\"mouseover\", function(){\n",
        "          d3.select(this)\n",
        "            .style(\"background-color\", \"orange\");\n",
        "\n",
        "          // Get current event info\n",
        "          console.log(d3.event);\n",
        "\n",
        "          // Get x & y co-ordinates\n",
        "          console.log(d3.mouse(this));\n",
        "      })\n",
        "      .on(\"mouseout\", function(){\n",
        "          d3.select(this)\n",
        "            .style(\"background-color\", \"steelblue\")\n",
        "      });\n",
        "</script>\n",
        "</body>\n",
        "</html>\n"
      ]
    },
    {
      "cell_type": "markdown",
      "metadata": {
        "id": "uJpPSjuWvFjM"
      },
      "source": [
        "2. Click on circle to move them"
      ]
    },
    {
      "cell_type": "code",
      "execution_count": 2,
      "metadata": {
        "colab": {
          "base_uri": "https://localhost:8080/",
          "height": 221
        },
        "id": "hxYhiWDNr9Jb",
        "outputId": "764ab002-52ff-4420-e8c5-3fefb80ea8f7",
        "tags": []
      },
      "outputs": [
        {
          "output_type": "display_data",
          "data": {
            "text/plain": [
              "<IPython.core.display.HTML object>"
            ],
            "text/html": [
              "<!DOCTYPE html>\n",
              "<html lang=\"en\">\n",
              "<head>\n",
              "  <meta charset=\"UTF-8\">\n",
              "  <title>D3.js Drag and Drop</title>\n",
              "  <script src=\"https://d3js.org/d3.v7.min.js\"></script>\n",
              "  <style>\n",
              "    .circle {\n",
              "      fill: steelblue;\n",
              "      cursor: pointer;\n",
              "    }\n",
              "  </style>\n",
              "</head>\n",
              "<body>\n",
              "  <svg width=\"200\" height=\"200\">\n",
              "    <circle class=\"circle\" cx=\"50\" cy=\"50\" r=\"20\"></circle>\n",
              "    <circle class=\"circle\" cx=\"100\" cy=\"100\" r=\"20\"></circle>\n",
              "    <circle class=\"circle\" cx=\"150\" cy=\"150\" r=\"20\"></circle>\n",
              "  </svg>\n",
              "\n",
              "  <script>\n",
              "    d3.selectAll(\".circle\")\n",
              "      .call(d3.drag()\n",
              "        .on(\"start\", function() {\n",
              "          d3.select(this).raise().classed(\"active\", true);\n",
              "        })\n",
              "        .on(\"drag\", function(event) {\n",
              "          d3.select(this)\n",
              "            .attr(\"cx\", event.x)\n",
              "            .attr(\"cy\", event.y);\n",
              "        })\n",
              "        .on(\"end\", function() {\n",
              "          d3.select(this).classed(\"active\", false);\n",
              "        })\n",
              "      );\n",
              "  </script>\n",
              "</body>\n",
              "</html>\n"
            ]
          },
          "metadata": {}
        }
      ],
      "source": [
        "%%html\n",
        "<!DOCTYPE html>\n",
        "<html lang=\"en\">\n",
        "<head>\n",
        "  <meta charset=\"UTF-8\">\n",
        "  <title>D3.js Drag and Drop</title>\n",
        "  <script src=\"https://d3js.org/d3.v7.min.js\"></script>\n",
        "  <style>\n",
        "    .circle {\n",
        "      fill: steelblue;\n",
        "      cursor: pointer;\n",
        "    }\n",
        "  </style>\n",
        "</head>\n",
        "<body>\n",
        "  <svg width=\"200\" height=\"200\">\n",
        "    <circle class=\"circle\" cx=\"50\" cy=\"50\" r=\"20\"></circle>\n",
        "    <circle class=\"circle\" cx=\"100\" cy=\"100\" r=\"20\"></circle>\n",
        "    <circle class=\"circle\" cx=\"150\" cy=\"150\" r=\"20\"></circle>\n",
        "  </svg>\n",
        "\n",
        "  <script>\n",
        "    d3.selectAll(\".circle\")\n",
        "      .call(d3.drag()\n",
        "        .on(\"start\", function() {\n",
        "          d3.select(this).raise().classed(\"active\", true);\n",
        "        })\n",
        "        .on(\"drag\", function(event) {\n",
        "          d3.select(this)\n",
        "            .attr(\"cx\", event.x)\n",
        "            .attr(\"cy\", event.y);\n",
        "        })\n",
        "        .on(\"end\", function() {\n",
        "          d3.select(this).classed(\"active\", false);\n",
        "        })\n",
        "      );\n",
        "  </script>\n",
        "</body>\n",
        "</html>\n"
      ]
    },
    {
      "cell_type": "markdown",
      "metadata": {
        "id": "kC5IE-lou5Hn"
      },
      "source": [
        "3. Hover on Circle to see tooltip"
      ]
    },
    {
      "cell_type": "code",
      "execution_count": 3,
      "metadata": {
        "colab": {
          "base_uri": "https://localhost:8080/",
          "height": 221
        },
        "id": "S268rxessD5I",
        "outputId": "4ceabeeb-86ba-49c3-9494-c1c393ec0d21",
        "tags": []
      },
      "outputs": [
        {
          "output_type": "display_data",
          "data": {
            "text/plain": [
              "<IPython.core.display.HTML object>"
            ],
            "text/html": [
              "<!DOCTYPE html>\n",
              "<html lang=\"en\">\n",
              "<head>\n",
              "  <meta charset=\"UTF-8\">\n",
              "  <title>D3.js Tooltips on Hover</title>\n",
              "  <script src=\"https://d3js.org/d3.v7.min.js\"></script>\n",
              "  <style>\n",
              "    .circle {\n",
              "      fill: steelblue;\n",
              "    }\n",
              "    .tooltip {\n",
              "      position: absolute;\n",
              "      padding: 10px;\n",
              "      background: rgba(0, 0, 0, 0.8);\n",
              "      color: white;\n",
              "      font-size: 12px;\n",
              "      pointer-events: none;\n",
              "      display: none;\n",
              "    }\n",
              "  </style>\n",
              "</head>\n",
              "<body>\n",
              "  <svg width=\"400\" height=\"200\">\n",
              "  </svg>\n",
              "\n",
              "  <div class=\"tooltip\"></div>\n",
              "\n",
              "  <script>\n",
              "    var svg = d3.select(\"svg\");\n",
              "    var tooltip = d3.select(\".tooltip\");\n",
              "\n",
              "    svg.append(\"circle\")\n",
              "      .attr(\"cx\", 90)\n",
              "      .attr(\"cy\", 90)\n",
              "      .attr(\"r\", 80)\n",
              "      .attr(\"class\", \"circle\");\n",
              "\n",
              "    svg.selectAll(\".circle\")\n",
              "      .on(\"mouseover\", function(event, d) {\n",
              "        var coords = d3.pointer(event);\n",
              "        tooltip.style(\"display\", \"block\")\n",
              "          .style(\"left\", (coords[0] + 10) + \"px\")\n",
              "          .style(\"top\", (coords[1] - 20) + \"px\")\n",
              "          .html(\"Coordinates: \" + coords[0] + \", \" + coords[1]);\n",
              "      })\n",
              "      .on(\"mouseout\", function() {\n",
              "        tooltip.style(\"display\", \"none\");\n",
              "      });\n",
              "  </script>\n",
              "</body>\n",
              "</html>\n"
            ]
          },
          "metadata": {}
        }
      ],
      "source": [
        "%%html\n",
        "<!DOCTYPE html>\n",
        "<html lang=\"en\">\n",
        "<head>\n",
        "  <meta charset=\"UTF-8\">\n",
        "  <title>D3.js Tooltips on Hover</title>\n",
        "  <script src=\"https://d3js.org/d3.v7.min.js\"></script>\n",
        "  <style>\n",
        "    .circle {\n",
        "      fill: steelblue;\n",
        "    }\n",
        "    .tooltip {\n",
        "      position: absolute;\n",
        "      padding: 10px;\n",
        "      background: rgba(0, 0, 0, 0.8);\n",
        "      color: white;\n",
        "      font-size: 12px;\n",
        "      pointer-events: none;\n",
        "      display: none;\n",
        "    }\n",
        "  </style>\n",
        "</head>\n",
        "<body>\n",
        "  <svg width=\"400\" height=\"200\">\n",
        "  </svg>\n",
        "\n",
        "  <div class=\"tooltip\"></div>\n",
        "\n",
        "  <script>\n",
        "    var svg = d3.select(\"svg\");\n",
        "    var tooltip = d3.select(\".tooltip\");\n",
        "\n",
        "    svg.append(\"circle\")\n",
        "      .attr(\"cx\", 90)\n",
        "      .attr(\"cy\", 90)\n",
        "      .attr(\"r\", 80)\n",
        "      .attr(\"class\", \"circle\");\n",
        "\n",
        "    svg.selectAll(\".circle\")\n",
        "      .on(\"mouseover\", function(event, d) {\n",
        "        var coords = d3.pointer(event);\n",
        "        tooltip.style(\"display\", \"block\")\n",
        "          .style(\"left\", (coords[0] + 10) + \"px\")\n",
        "          .style(\"top\", (coords[1] - 20) + \"px\")\n",
        "          .html(\"Coordinates: \" + coords[0] + \", \" + coords[1]);\n",
        "      })\n",
        "      .on(\"mouseout\", function() {\n",
        "        tooltip.style(\"display\", \"none\");\n",
        "      });\n",
        "  </script>\n",
        "</body>\n",
        "</html>\n"
      ]
    },
    {
      "cell_type": "markdown",
      "metadata": {
        "id": "MLPLgBYsvLwP"
      },
      "source": [
        "4. Highlight on Click"
      ]
    },
    {
      "cell_type": "code",
      "execution_count": 15,
      "metadata": {
        "colab": {
          "base_uri": "https://localhost:8080/",
          "height": 173
        },
        "id": "nX8hT36msLKv",
        "outputId": "3a4e51f5-b7a1-4892-8d9b-e590841f3933",
        "tags": []
      },
      "outputs": [
        {
          "output_type": "display_data",
          "data": {
            "text/plain": [
              "<IPython.core.display.HTML object>"
            ],
            "text/html": [
              "<!DOCTYPE html>\n",
              "<html lang=\"en\">\n",
              "<head>\n",
              "  <meta charset=\"UTF-8\">\n",
              "  <title>D3.js Zoom and Pan</title>\n",
              "  <script src=\"https://d3js.org/d3.v7.min.js\"></script>\n",
              "  <style>\n",
              "    svg {\n",
              "      border: 1px solid #ddd;\n",
              "    }\n",
              "  </style>\n",
              "</head>\n",
              "<body>\n",
              "  <svg>\n",
              "  </svg>\n",
              "\n",
              "  <script>\n",
              "    var data = [120, 140, 100, 130, 150, 130, 190, 150, 190, 110,\n",
              "            110, 140, 120, 100, 170, 120, 120, 160, 120, 180]\n",
              "    var chart = d3.select('svg')\n",
              "\n",
              "    var rects = chart.selectAll('rect')\n",
              "      .data(data).enter()\n",
              "      .append('rect')\n",
              "      .attr('x', 0)\n",
              "      .attr('y', function(d,i) {return i * 15})\n",
              "      .attr('width', function(d) {return d})\n",
              "      .attr('height', 14)\n",
              "\n",
              "    var labels = chart.selectAll(\"text\")\n",
              "      .data(data)\n",
              "      .enter()\n",
              "      .append(\"text\")\n",
              "      .text(function(d) {return d})\n",
              "      .attr(\"y\", function(d,i) {return i*15 + 10})\n",
              "      .attr(\"x\", function(d) {return d - 20})\n",
              "      .attr(\"font-family\", \"sans-serif\")\n",
              "      .attr(\"font-size\", \"10px\")\n",
              "      .attr(\"fill\", \"white\")\n",
              "    \n",
              "    chart.selectAll('rect').on(\"click\", function(d) {\n",
              "      // console.log(d)\n",
              "      d3.select(this)\n",
              "      .attr(\"fill\" , d3.select(this).attr(\"fill\") === \"green\" ? \"black\" : \"green\" )\n",
              "    })\n",
              "\n",
              "  </script>\n",
              "</body>\n",
              "</html>\n"
            ]
          },
          "metadata": {}
        }
      ],
      "source": [
        "%%html\n",
        "<!DOCTYPE html>\n",
        "<html lang=\"en\">\n",
        "<head>\n",
        "  <meta charset=\"UTF-8\">\n",
        "  <title>D3.js Zoom and Pan</title>\n",
        "  <script src=\"https://d3js.org/d3.v7.min.js\"></script>\n",
        "  <style>\n",
        "    svg {\n",
        "      border: 1px solid #ddd;\n",
        "    }\n",
        "  </style>\n",
        "</head>\n",
        "<body>\n",
        "  <svg>\n",
        "  </svg>\n",
        "\n",
        "  <script>\n",
        "    var data = [120, 140, 100, 130, 150, 130, 190, 150, 190, 110,\n",
        "            110, 140, 120, 100, 170, 120, 120, 160, 120, 180]\n",
        "    var chart = d3.select('svg')\n",
        "\n",
        "    var rects = chart.selectAll('rect')\n",
        "      .data(data).enter()\n",
        "      .append('rect')\n",
        "      .attr('x', 0)\n",
        "      .attr('y', function(d,i) {return i * 15})\n",
        "      .attr('width', function(d) {return d})\n",
        "      .attr('height', 14)\n",
        "\n",
        "    var labels = chart.selectAll(\"text\")\n",
        "      .data(data)\n",
        "      .enter()\n",
        "      .append(\"text\")\n",
        "      .text(function(d) {return d})\n",
        "      .attr(\"y\", function(d,i) {return i*15 + 10})\n",
        "      .attr(\"x\", function(d) {return d - 20})\n",
        "      .attr(\"font-family\", \"sans-serif\")\n",
        "      .attr(\"font-size\", \"10px\")\n",
        "      .attr(\"fill\", \"white\")\n",
        "\n",
        "    chart.selectAll('rect').on(\"click\", function(d) {\n",
        "      // console.log(d)\n",
        "      d3.select(this)\n",
        "      .attr(\"fill\" , d3.select(this).attr(\"fill\") === \"green\" ? \"black\" : \"green\" )\n",
        "    })\n",
        "\n",
        "  </script>\n",
        "</body>\n",
        "</html>\n"
      ]
    },
    {
      "cell_type": "markdown",
      "metadata": {
        "id": "BIWoQy1wviWc"
      },
      "source": [
        "**Conclusion:**\n",
        "\n",
        "Sucessfully handled events in d3.js"
      ]
    }
  ],
  "metadata": {
    "colab": {
      "provenance": [],
      "include_colab_link": true
    },
    "kernelspec": {
      "display_name": "Python 3 (ipykernel)",
      "language": "python",
      "name": "python3"
    },
    "language_info": {
      "codemirror_mode": {
        "name": "ipython",
        "version": 3
      },
      "file_extension": ".py",
      "mimetype": "text/x-python",
      "name": "python",
      "nbconvert_exporter": "python",
      "pygments_lexer": "ipython3",
      "version": "3.11.5"
    }
  },
  "nbformat": 4,
  "nbformat_minor": 0
}