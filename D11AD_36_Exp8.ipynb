{
  "nbformat": 4,
  "nbformat_minor": 0,
  "metadata": {
    "colab": {
      "provenance": [],
      "include_colab_link": true
    },
    "kernelspec": {
      "name": "python3",
      "display_name": "Python 3"
    },
    "language_info": {
      "name": "python"
    }
  },
  "cells": [
    {
      "cell_type": "markdown",
      "metadata": {
        "id": "view-in-github",
        "colab_type": "text"
      },
      "source": [
        "<a href=\"https://colab.research.google.com/github/SpecularAura/DAV-SEM5/blob/master/D11AD_36_Exp8.ipynb\" target=\"_parent\"><img src=\"https://colab.research.google.com/assets/colab-badge.svg\" alt=\"Open In Colab\"/></a>"
      ]
    },
    {
      "cell_type": "markdown",
      "source": [
        "##Aum Kulkarni D11AD 36"
      ],
      "metadata": {
        "id": "L8T58o8_n4Yq"
      }
    },
    {
      "cell_type": "code",
      "source": [
        "%%html\n",
        "<!DOCTYPE html>\n",
        "<html lang=\"en\">\n",
        "<head>\n",
        "    <meta charset=\"UTF-8\">\n",
        "    <meta name=\"viewport\" content=\"width=device-width, initial-scale=1.0\">\n",
        "    <title>Data-Based D3.js Example</title>\n",
        "    <script src=\"https://d3js.org/d3.v5.min.js\"></script>\n",
        "</head>\n",
        "<body>\n",
        "\n",
        "    <svg id=\"barChart\" width=\"400\" height=\"300\"></svg>\n",
        "\n",
        "    <script>\n",
        "        var data = [25, 50, 100, 150, 200];\n",
        "        var svg = d3.select(\"#barChart\");\n",
        "        svg.selectAll(\"rect\")\n",
        "            .data(data)\n",
        "            .enter().append(\"rect\")\n",
        "            .attr(\"x\", function(d, i) { return i * 80; })\n",
        "            .attr(\"y\", function(d) { return 200 - d; })\n",
        "            .attr(\"width\", 60)\n",
        "            .attr(\"height\", function(d) { return d; })\n",
        "            .attr(\"class\", \"bar\")\n",
        "            .attr(\"fill\", \"steelblue\")\n",
        "    </script>\n",
        "\n",
        "</body>\n",
        "</html>"
      ],
      "metadata": {
        "colab": {
          "base_uri": "https://localhost:8080/",
          "height": 171
        },
        "id": "fxpixyB0gbAf",
        "outputId": "81f6ccb4-6f43-4aa5-8b8f-852bd382d626"
      },
      "execution_count": 20,
      "outputs": [
        {
          "output_type": "display_data",
          "data": {
            "text/plain": [
              "<IPython.core.display.HTML object>"
            ],
            "text/html": [
              "<!DOCTYPE html>\n",
              "<html lang=\"en\">\n",
              "<head>\n",
              "    <meta charset=\"UTF-8\">\n",
              "    <meta name=\"viewport\" content=\"width=device-width, initial-scale=1.0\">\n",
              "    <title>Data-Based D3.js Example</title>\n",
              "    <script src=\"https://d3js.org/d3.v5.min.js\"></script>\n",
              "</head>\n",
              "<body>\n",
              "\n",
              "    <div id=\"barChart\"></div>\n",
              "\n",
              "    <script>\n",
              "        var data = [25, 50, 100, 150, 200];\n",
              "        var svg = d3.select(\"#barChart\").append(\"svg\");\n",
              "        svg.selectAll(\"rect\")\n",
              "            .data(data)\n",
              "            .enter().append(\"rect\")\n",
              "            .attr(\"x\", function(d, i) { return i * 80; })\n",
              "            .attr(\"y\", function(d) { return 200 - d; })\n",
              "            .attr(\"width\", 60)\n",
              "            .attr(\"height\", function(d) { return d; })\n",
              "            .attr(\"class\", \"bar\")\n",
              "            .attr(\"fill\", \"steelblue\")\n",
              "    </script>\n",
              "\n",
              "</body>\n",
              "</html>\n"
            ]
          },
          "metadata": {}
        }
      ]
    },
    {
      "cell_type": "code",
      "source": [
        "%%html\n",
        "<!DOCTYPE html>\n",
        "<html lang=\"en\">\n",
        "<head>\n",
        "    <meta charset=\"UTF-8\">\n",
        "    <meta name=\"viewport\" content=\"width=device-width, initial-scale=1.0\">\n",
        "    <title>Data-Based D3.js Pie Chart Example</title>\n",
        "    <script src=\"https://d3js.org/d3.v5.min.js\"></script>\n",
        "</head>\n",
        "<body>\n",
        "\n",
        "    <svg id=\"pieChart\" width=\"400\" height=\"400\"></svg>\n",
        "\n",
        "    <script>\n",
        "        var data = [30, 40, 50];\n",
        "\n",
        "        var svg = d3.select(\"#pieChart\")\n",
        "            .append(\"g\")\n",
        "            .attr(\"transform\", \"translate(200,200)\"); // Center the pie chart\n",
        "        var pie = d3.pie();\n",
        "\n",
        "        var arc = d3.arc()\n",
        "            .innerRadius(0)\n",
        "            .outerRadius(100);\n",
        "\n",
        "        var arcs = svg.selectAll(\"path\")\n",
        "            .data(pie(data))\n",
        "            .enter().append(\"path\")\n",
        "            .attr(\"d\", arc)\n",
        "            .attr(\"fill\", function(d, i) {\n",
        "                return d3.schemePaired[i]; // Use a color scheme for each slice\n",
        "            })\n",
        "    </script>\n",
        "\n",
        "</body>\n",
        "</html>\n"
      ],
      "metadata": {
        "colab": {
          "base_uri": "https://localhost:8080/",
          "height": 421
        },
        "id": "048JASvPk7BP",
        "outputId": "5e07de2e-eea3-48d1-8f50-48ee1658b691"
      },
      "execution_count": 10,
      "outputs": [
        {
          "output_type": "display_data",
          "data": {
            "text/plain": [
              "<IPython.core.display.HTML object>"
            ],
            "text/html": [
              "<!DOCTYPE html>\n",
              "<html lang=\"en\">\n",
              "<head>\n",
              "    <meta charset=\"UTF-8\">\n",
              "    <meta name=\"viewport\" content=\"width=device-width, initial-scale=1.0\">\n",
              "    <title>Data-Based D3.js Pie Chart Example</title>\n",
              "    <script src=\"https://d3js.org/d3.v5.min.js\"></script>\n",
              "</head>\n",
              "<body>\n",
              "\n",
              "    <svg id=\"pieChart\" width=\"400\" height=\"400\"></svg>\n",
              "\n",
              "    <script>\n",
              "        var data = [30, 40, 50];\n",
              "\n",
              "        var svg = d3.select(\"#pieChart\")\n",
              "            .append(\"g\")\n",
              "            .attr(\"transform\", \"translate(200,200)\"); // Center the pie chart\n",
              "\n",
              "        var pie = d3.pie();\n",
              "\n",
              "        var arc = d3.arc()\n",
              "            .innerRadius(0)\n",
              "            .outerRadius(100);\n",
              "\n",
              "        var arcs = svg.selectAll(\"path\")\n",
              "            .data(pie(data))\n",
              "            .enter().append(\"path\")\n",
              "            .attr(\"d\", arc)\n",
              "            .attr(\"fill\", function(d, i) {\n",
              "                return d3.schemePaired[i]; // Use a color scheme for each slice\n",
              "            })\n",
              "    </script>\n",
              "\n",
              "</body>\n",
              "</html>\n"
            ]
          },
          "metadata": {}
        }
      ]
    }
  ]
}