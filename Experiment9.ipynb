{
  "nbformat": 4,
  "nbformat_minor": 0,
  "metadata": {
    "colab": {
      "provenance": [],
      "include_colab_link": true
    },
    "kernelspec": {
      "name": "python3",
      "display_name": "Python 3"
    },
    "language_info": {
      "name": "python"
    }
  },
  "cells": [
    {
      "cell_type": "markdown",
      "metadata": {
        "id": "view-in-github",
        "colab_type": "text"
      },
      "source": [
        "<a href=\"https://colab.research.google.com/github/SpecularAura/DAV-SEM5/blob/master/Experiment9.ipynb\" target=\"_parent\"><img src=\"https://colab.research.google.com/assets/colab-badge.svg\" alt=\"Open In Colab\"/></a>"
      ]
    },
    {
      "cell_type": "markdown",
      "source": [
        "# **Aim:**\n",
        "Create a World Map with d3.js"
      ],
      "metadata": {
        "id": "4fUdEV6OpRFP"
      }
    },
    {
      "cell_type": "markdown",
      "source": [
        "D3.js facilitates map plotting through GeoProjections, which transform 3D geographic data onto a 2D plane. Using GeoPaths, it generates SVG path data to draw GeoJSON features, enabling the creation of interactive and visually compelling maps. This process allows for the customization of map projections, styles, and interactive elements, providing rich and informative visualizations of geographical data."
      ],
      "metadata": {
        "id": "bgHABUjaq_b6"
      }
    },
    {
      "cell_type": "code",
      "execution_count": null,
      "metadata": {
        "colab": {
          "base_uri": "https://localhost:8080/",
          "height": 1000
        },
        "id": "N0Jxb0QEoOWF",
        "outputId": "82f715ab-7da0-4a37-fbec-ddd7ff80be5f"
      },
      "outputs": [
        {
          "output_type": "display_data",
          "data": {
            "text/plain": [
              "<IPython.core.display.HTML object>"
            ],
            "text/html": [
              "<!DOCTYPE html>\n",
              "<html lang=\"en\">\n",
              "\n",
              "<head>\n",
              "    <meta charset=\"UTF-8\">\n",
              "    <meta name=\"viewport\" content=\"width=device-width, initial-scale=1.0\">\n",
              "    <title>Data-Based D3.js Example</title>\n",
              "    <script src=\"https://d3js.org/d3.v5.min.js\"></script>\n",
              "    <script src=\"https://d3js.org/d3.v5.min.js\"></script>\n",
              "    <style>\n",
              "        #content .map path {\n",
              "            fill: blue;\n",
              "            stroke: #aaa;\n",
              "        }\n",
              "    </style>\n",
              "</head>\n",
              "\n",
              "<body>\n",
              "    <div id=\"content\">\n",
              "        <svg height=\"100vh\" width=\"100vw\">\n",
              "            <g class=\"map\"></g>\n",
              "        </svg>\n",
              "    </div>\n",
              "    <script>\n",
              "        var url = \"https://raw.githubusercontent.com/datameet/maps/master/Country/india-osm.geojson\";\n",
              "        d3.json(url).then(function (geojson) {\n",
              "            let projection = d3.geoMercator().scale(500).translate([0, 500]);\n",
              "\n",
              "            let geoGenerator = d3.geoPath()\n",
              "                .projection(projection);\n",
              "\n",
              "            function update(geojson) {\n",
              "                let u = d3.select('#content g.map')\n",
              "                    .selectAll('path')\n",
              "                    .data(geojson.features);\n",
              "\n",
              "                u.enter()\n",
              "                    .append('path')\n",
              "                    .attr('d', geoGenerator);\n",
              "            }\n",
              "\n",
              "            update(geojson);\n",
              "        });\n",
              "    </script>\n",
              "\n",
              "</body>\n",
              "\n",
              "</html>\n"
            ]
          },
          "metadata": {}
        }
      ],
      "source": [
        "%%html\n",
        "<!DOCTYPE html>\n",
        "<html lang=\"en\">\n",
        "\n",
        "<head>\n",
        "    <meta charset=\"UTF-8\">\n",
        "    <meta name=\"viewport\" content=\"width=device-width, initial-scale=1.0\">\n",
        "    <title>Data-Based D3.js Example</title>\n",
        "    <script src=\"https://d3js.org/d3.v5.min.js\"></script>\n",
        "    <script src=\"https://d3js.org/d3.v5.min.js\"></script>\n",
        "    <style>\n",
        "        #content .map path {\n",
        "            fill: blue;\n",
        "            stroke: #aaa;\n",
        "        }\n",
        "    </style>\n",
        "</head>\n",
        "\n",
        "<body>\n",
        "    <div id=\"content\">\n",
        "        <svg height=\"100vh\" width=\"100vw\">\n",
        "            <g class=\"map\"></g>\n",
        "        </svg>\n",
        "    </div>\n",
        "    <script>\n",
        "        var url = \"https://raw.githubusercontent.com/datameet/maps/master/Country/india-osm.geojson\";\n",
        "        d3.json(url).then(function (geojson) {\n",
        "            let projection = d3.geoMercator().scale(500).translate([0, 500]);\n",
        "\n",
        "            let geoGenerator = d3.geoPath()\n",
        "                .projection(projection);\n",
        "\n",
        "            function update(geojson) {\n",
        "                let u = d3.select('#content g.map')\n",
        "                    .selectAll('path')\n",
        "                    .data(geojson.features);\n",
        "\n",
        "                u.enter()\n",
        "                    .append('path')\n",
        "                    .attr('d', geoGenerator);\n",
        "            }\n",
        "\n",
        "            update(geojson);\n",
        "        });\n",
        "    </script>\n",
        "\n",
        "</body>\n",
        "\n",
        "</html>"
      ]
    },
    {
      "cell_type": "markdown",
      "source": [
        "# **Conclusion:**\n",
        "\n",
        "Successfully implemented map using d3.js"
      ],
      "metadata": {
        "id": "89sWRWgxou7W"
      }
    }
  ]
}